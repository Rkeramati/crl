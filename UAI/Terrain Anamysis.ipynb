{
 "cells": [
  {
   "cell_type": "code",
   "execution_count": 21,
   "metadata": {},
   "outputs": [],
   "source": [
    "import numpy as np\n",
    "import matplotlib.pyplot as plt\n",
    "from terrain import Nav2D\n",
    "from cliff import Cliff\n",
    "%matplotlib inline\n",
    "\n",
    "def CVaR_policy(p, x, alpha, N=20, Vmax=20, Vmin=-20, nAtoms=51, nA=4):\n",
    "    dz = (Vmax - Vmin)/(nAtoms-1)\n",
    "    Z = np.arange(nAtoms) * dz + Vmin\n",
    "    Q = np.zeros(nA)\n",
    "    for a in range(nA):\n",
    "        values = np.zeros(N)\n",
    "        for n in range(N):\n",
    "            tau = np.random.uniform(0, alpha)\n",
    "            idx = np.argmax((np.cumsum(p[x, a, :]) > tau) * 1.0)\n",
    "            z = Z[idx]\n",
    "            values[n] = z\n",
    "        Q[a] = np.mean(values)\n",
    "    return Q\n",
    "\n",
    "def read(name):\n",
    "    p = np.load(name)\n",
    "    return p\n",
    "\n",
    "def calc_CVaR(returns, alpha):\n",
    "    var = np.sort(returns[:])[int(len(returns[:]) * alpha)]\n",
    "    idx = np.where(returns[:] <= var)\n",
    "    CVaR = np.mean(returns[idx])\n",
    "    return CVaR\n",
    "\n",
    "def CVaR(p, wolrd, alpha, N=100, gamma=0.95):\n",
    "    returns = np.zeros(N)\n",
    "    for ep in range(N):\n",
    "        o = world.reset()\n",
    "        terminal = False\n",
    "        ret = []\n",
    "        while not terminal:\n",
    "            a = np.argmax(CVaR_policy(p, o, alpha=alpha, nA = world.nA))\n",
    "            no, r, terminal = world.step(a)\n",
    "            ret.append(r)\n",
    "            o = no\n",
    "        tot_ret = 0\n",
    "        for r in reversed(ret):\n",
    "            tot_ret = r + gamma*tot_ret\n",
    "        returns[ep] = tot_ret\n",
    "    return calc_CVaR(returns, alpha)\n",
    "\n",
    "def path(p, world, alpha):\n",
    "    o = world.reset()\n",
    "    path = []\n",
    "    terminal = False\n",
    "    path.append(world.current_state)\n",
    "    step = 0\n",
    "    while not terminal and step < 200:\n",
    "        a = np.argmax(CVaR_policy(p, o, alpha=alpha, nA = world.nA))\n",
    "        no, r, terminal = world.step(a)\n",
    "        path.append(world.current_state)\n",
    "        o = no\n",
    "        step += 1\n",
    "    return path\n",
    "\n",
    "def draw(name, world, alpha):\n",
    "    p = read(name)\n",
    "    traj = path(p, world, alpha)\n",
    "    matrix = world.obstacles\n",
    "    matrix[world.goal_state] = -1\n",
    "    matrix[world.initial_state] = 2\n",
    "    for x, y in traj:\n",
    "        plt.plot(x, y, '.', color = 'blue', markersize=5)\n",
    "    plt.imshow(matrix.T)\n",
    "    plt.title('CVaR at alpha=%g = %g'%(alpha, CVaR(p, world, alpha=alpha, N=100)))\n",
    "\n",
    "def drawCliff(name, world, alpha):\n",
    "    p = read(name)\n",
    "    traj = path(p, world, alpha)\n",
    "    matrix = np.zeros((world.maxX, world.maxY))\n",
    "    for x, y  in world.cliff:\n",
    "        matrix[x, y] = 1\n",
    "    matrix[world.goal_state] = -1\n",
    "    matrix[world.initial_state] = 2\n",
    "    for x, y in traj:\n",
    "        plt.plot(x, y, '.', color = 'blue', markersize=5)\n",
    "    plt.imshow(matrix.T)\n",
    "    plt.title('CVaR at alpha=%g = %g'%(alpha, CVaR(p, world, alpha=alpha, N=100)))"
   ]
  },
  {
   "cell_type": "code",
   "execution_count": 24,
   "metadata": {},
   "outputs": [],
   "source": [
    "name = 'cliff_c51_p.npy'\n",
    "world = Cliff(0.1, 10)"
   ]
  },
  {
   "cell_type": "code",
   "execution_count": 25,
   "metadata": {},
   "outputs": [
    {
     "data": {
      "image/png": "[encoded data removed]",
      "text/plain": [
       "<Figure size 432x288 with 1 Axes>"
      ]
     },
     "metadata": {},
     "output_type": "display_data"
    }
   ],
   "source": [
    "drawCliff(name, world, 0.1)"
   ]
  },
  {
   "cell_type": "code",
   "execution_count": 196,
   "metadata": {},
   "outputs": [
    {
     "name": "stdout",
     "output_type": "stream",
     "text": [
      "-13.701055378567657\n",
      "-29.809286752857528\n"
     ]
    }
   ],
   "source": [
    "N = 1000; alpha = 0.25; gamma=0.95\n",
    "returns = np.zeros(N)\n",
    "for ep in range(N):\n",
    "    o = world.reset()\n",
    "    terminal = False\n",
    "    ret = []\n",
    "    while not terminal:\n",
    "        a = 2\n",
    "        no, r, terminal = world.step(a)\n",
    "        ret.append(r)\n",
    "        o = no\n",
    "    tot_ret = 0\n",
    "    for r in reversed(ret):\n",
    "        tot_ret = r + gamma*tot_ret\n",
    "    returns[ep] = tot_ret\n",
    "    \n",
    "print(np.mean(returns))\n",
    "print(calc_CVaR(returns, alpha))"
   ]
  },
  {
   "cell_type": "code",
   "execution_count": null,
   "metadata": {},
   "outputs": [],
   "source": []
  }
 ],
 "metadata": {
  "kernelspec": {
   "display_name": "Python 3",
   "language": "python",
   "name": "python3"
  },
  "language_info": {
   "codemirror_mode": {
    "name": "ipython",
    "version": 3
   },
   "file_extension": ".py",
   "mimetype": "text/x-python",
   "name": "python",
   "nbconvert_exporter": "python",
   "pygments_lexer": "ipython3",
   "version": "3.6.5"
  }
 },
 "nbformat": 4,
 "nbformat_minor": 2
}
