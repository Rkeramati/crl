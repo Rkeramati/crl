{
 "cells": [
  {
   "cell_type": "code",
   "execution_count": 1,
   "metadata": {},
   "outputs": [],
   "source": [
    "import numpy as np\n",
    "import matplotlib.pyplot as plt\n",
    "from env import mrp\n",
    "from td import *\n",
    "from cvar import *\n",
    "from config import *\n",
    "%matplotlib inline"
   ]
  },
  {
   "cell_type": "code",
   "execution_count": 2,
   "metadata": {},
   "outputs": [],
   "source": [
    "env = stopping_env()\n",
    "config = config(env.nS, env.nA)\n"
   ]
  },
  {
   "cell_type": "code",
   "execution_count": 11,
   "metadata": {},
   "outputs": [
    {
     "name": "stderr",
     "output_type": "stream",
     "text": [
      "/home/ramtin/Desktop/old/CRL/cvar/cvar.py:53: RuntimeWarning: invalid value encountered in true_divide\n",
      "  return np.exp(x) / np.sum(np.exp(x), axis=0)\n",
      "/home/ramtin/Desktop/old/CRL/cvar/cvar.py:76: RuntimeWarning: invalid value encountered in less\n",
      "  a = np.random.choice(np.arange(self.nA), p=prob)\n"
     ]
    },
    {
     "name": "stdout",
     "output_type": "stream",
     "text": [
      "[[nan nan nan nan nan nan nan nan nan nan nan nan nan nan nan nan nan nan\n",
      "  nan nan nan]\n",
      " [nan nan nan nan nan nan nan nan nan nan nan nan nan nan nan nan nan nan\n",
      "  nan nan nan]]\n",
      "1.0\n"
     ]
    }
   ],
   "source": [
    "cvar = CVaROptimize(config)\n",
    "k = 0\n",
    "s = 0\n",
    "env.reset()\n",
    "x = env.state\n",
    "while k < 10000:\n",
    "    action = cvar.act(x, s)\n",
    "    nx, r, terminal = env.act(action)\n",
    "    s = cvar.observe(x, s, action, nx, r, k, terminal)\n",
    "    k += 1\n",
    "    if terminal:\n",
    "        env.reset()\n",
    "        x = env.state\n",
    "        s = cvar.nu\n",
    "print(cvar.policy)\n",
    "print(compute_loss(cvar, env))"
   ]
  },
  {
   "cell_type": "code",
   "execution_count": 8,
   "metadata": {},
   "outputs": [],
   "source": [
    "def compute_loss(cvar, env):\n",
    "    it = 0; max_it = 10\n",
    "    value_all = []\n",
    "    while it < max_it:\n",
    "        env.reset()\n",
    "        x = env.state\n",
    "        s = 0\n",
    "        terminal = False\n",
    "        r_ep = []\n",
    "        while not terminal:\n",
    "            action = cvar.act(x, s)\n",
    "            nx, r, terminal = env.act(action)\n",
    "            s = (s - r)/config.gamma\n",
    "            r_ep.append(r)\n",
    "        it += 1\n",
    "        value = 0\n",
    "        for r in reversed(r_ep):\n",
    "            value = r + config.gamma * value\n",
    "        value_all.append(value)\n",
    "    return np.mean(value_all)"
   ]
  },
  {
   "cell_type": "code",
   "execution_count": null,
   "metadata": {},
   "outputs": [],
   "source": []
  }
 ],
 "metadata": {
  "kernelspec": {
   "display_name": "Python 3",
   "language": "python",
   "name": "python3"
  },
  "language_info": {
   "codemirror_mode": {
    "name": "ipython",
    "version": 3
   },
   "file_extension": ".py",
   "mimetype": "text/x-python",
   "name": "python",
   "nbconvert_exporter": "python",
   "pygments_lexer": "ipython3",
   "version": "3.6.5"
  }
 },
 "nbformat": 4,
 "nbformat_minor": 2
}
