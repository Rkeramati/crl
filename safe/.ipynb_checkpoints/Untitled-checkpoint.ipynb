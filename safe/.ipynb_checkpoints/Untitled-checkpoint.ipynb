{
 "cells": [
  {
   "cell_type": "code",
   "execution_count": 1,
   "metadata": {},
   "outputs": [],
   "source": [
    "import numpy as np\n",
    "import matplotlib.pyplot as plt\n",
    "%matplotlib inline"
   ]
  },
  {
   "cell_type": "code",
   "execution_count": 56,
   "metadata": {},
   "outputs": [],
   "source": [
    "NoBonus1 = np.expand_dims(np.load('value_nS8NoBonus.npy'), axis=1)\n",
    "NoBonus2 = np.expand_dims(np.load('value_nS8NoBonus_2.npy'), axis=1)\n",
    "\n",
    "NoBonusVar1 = np.expand_dims(np.load('variance_nS8NoBonus.npy'), axis=1)\n",
    "NoBonusVar2 = np.expand_dims(np.load('variance_nS8NoBonus_2.npy'), axis=1)"
   ]
  },
  {
   "cell_type": "code",
   "execution_count": 57,
   "metadata": {},
   "outputs": [],
   "source": [
    "Bonus1 = np.expand_dims(np.load('value_nS8Bonus.npy'), axis=1)\n",
    "Bonus2 = np.expand_dims(np.load('value_nS8Bonus_2.npy'), axis=1)\n",
    "\n",
    "BonusH1 = np.expand_dims(np.load('value_nS8BonusHigh.npy'), axis=1)\n",
    "BonusH2 = np.expand_dims(np.load('value_nS8BonusHigh_2.npy'), axis=1)\n",
    "\n",
    "\n",
    "BonusVar1 = np.expand_dims(np.load('variance_nS8Bonus.npy'), axis=1)\n",
    "BonusVar2 = np.expand_dims(np.load('variance_nS8Bonus_2.npy'), axis=1)"
   ]
  },
  {
   "cell_type": "code",
   "execution_count": 58,
   "metadata": {},
   "outputs": [],
   "source": [
    "Bonus = np.concatenate([Bonus1, Bonus2], axis=1)\n",
    "BonusH = np.concatenate([BonusH1, BonusH2], axis=1)\n",
    "NoBonus = np.concatenate([NoBonus1, NoBonus2], axis=1)\n",
    "\n",
    "BonusVar = np.concatenate([BonusVar1, BonusVar2], axis=1)\n",
    "NoBonusVar = np.concatenate([NoBonusVar1, NoBonusVar2], axis=1)"
   ]
  },
  {
   "cell_type": "code",
   "execution_count": null,
   "metadata": {},
   "outputs": [],
   "source": [
    "NoBonus1 = np.expand_dims(np.load('value_nS8NoBonus.npy'), axis=1)\n",
    "NoBonus2 = np.expand_dims(np.load('value_nS8NoBonus_2.npy'), axis=1)\n",
    "for lambd in [0.1, 0.2, 0.3, 0.4, 0.5]:\n",
    "    Bonus1 = np.expand_dims(np.load('value_nS8Bonus_%d.npy')%(int(lambd*10)), axis=1)\n",
    "    Bonus2 = np.expand_dims(np.load('value_nS8Bonus_%d_2.npy')%(int(lambd*10)), axis=1)\n",
    "    Bonus = np.concatenate([Bonus1, Bonus2], axis=1)\n",
    "    plt.plot(np.mean(Bonus, axis=1), label='Bonus lambda %g'%(lambd))\n",
    "plt.plot(np.mean(NoBonus, axis=1), label='NoBonus')\n",
    "plt.legend()"
   ]
  },
  {
   "cell_type": "code",
   "execution_count": null,
   "metadata": {},
   "outputs": [],
   "source": []
  }
 ],
 "metadata": {
  "kernelspec": {
   "display_name": "Python 3",
   "language": "python",
   "name": "python3"
  },
  "language_info": {
   "codemirror_mode": {
    "name": "ipython",
    "version": 3
   },
   "file_extension": ".py",
   "mimetype": "text/x-python",
   "name": "python",
   "nbconvert_exporter": "python",
   "pygments_lexer": "ipython3",
   "version": "3.6.8"
  }
 },
 "nbformat": 4,
 "nbformat_minor": 2
}
